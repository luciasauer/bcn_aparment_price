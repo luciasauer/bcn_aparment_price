{
 "cells": [
  {
   "cell_type": "code",
   "execution_count": 1,
   "metadata": {},
   "outputs": [],
   "source": [
    "import pandas as pd\n",
    "import seaborn as sns\n",
    "import matplotlib.pyplot as plt\n",
    "import sklearn\n",
    "import numpy as np\n",
    "from sklearn.model_selection import train_test_split\n",
    "from sklearn.preprocessing import StandardScaler, OneHotEncoder\n",
    "from sklearn.linear_model import LinearRegression\n",
    "from sklearn.metrics import mean_squared_error\n",
    "from sklearn.experimental import enable_iterative_imputer\n",
    "from sklearn.impute import IterativeImputer\n",
    "from sklearn.ensemble import RandomForestRegressor\n",
    "from abc import ABC, abstractmethod\n",
    "from sklearn.impute import KNNImputer\n",
    "from sklearn.preprocessing import OrdinalEncoder\n"
   ]
  },
  {
   "cell_type": "code",
   "execution_count": 2,
   "metadata": {},
   "outputs": [],
   "source": [
    "from barcelona_prediction_lib.barcelona_prediction_lib.data_loader import *\n",
    "from barcelona_prediction_lib.barcelona_prediction_lib.data_preprocessor import *\n",
    "from barcelona_prediction_lib.barcelona_prediction_lib.feature_extractor import * \n",
    "from barcelona_prediction_lib.barcelona_prediction_lib.model import *"
   ]
  },
  {
   "cell_type": "code",
   "execution_count": 69,
   "metadata": {},
   "outputs": [
    {
     "name": "stdout",
     "output_type": "stream",
     "text": [
      "c:\\Users\\Blanca\\Dropbox\\My PC (Blanca)\\Desktop\\DSDM\\1-MachineLearning\\bcn_aparment_price\n"
     ]
    }
   ],
   "source": [
    "import os\n",
    "cwd = os.getcwd()\n",
    "print(cwd)\n",
    "df = pd.read_csv(cwd + '/train.csv')"
   ]
  },
  {
   "cell_type": "markdown",
   "metadata": {},
   "source": [
    "# SPLIT THE DATASET"
   ]
  },
  {
   "cell_type": "code",
   "execution_count": 70,
   "metadata": {},
   "outputs": [
    {
     "data": {
      "text/html": [
       "<div>\n",
       "<style scoped>\n",
       "    .dataframe tbody tr th:only-of-type {\n",
       "        vertical-align: middle;\n",
       "    }\n",
       "\n",
       "    .dataframe tbody tr th {\n",
       "        vertical-align: top;\n",
       "    }\n",
       "\n",
       "    .dataframe thead th {\n",
       "        text-align: right;\n",
       "    }\n",
       "</style>\n",
       "<table border=\"1\" class=\"dataframe\">\n",
       "  <thead>\n",
       "    <tr style=\"text-align: right;\">\n",
       "      <th></th>\n",
       "      <th>id</th>\n",
       "      <th>num_rooms</th>\n",
       "      <th>num_baths</th>\n",
       "      <th>square_meters</th>\n",
       "      <th>orientation</th>\n",
       "      <th>year_built</th>\n",
       "      <th>door</th>\n",
       "      <th>is_furnished</th>\n",
       "      <th>has_pool</th>\n",
       "      <th>neighborhood</th>\n",
       "      <th>num_crimes</th>\n",
       "      <th>has_ac</th>\n",
       "      <th>accepts_pets</th>\n",
       "      <th>num_supermarkets</th>\n",
       "      <th>price</th>\n",
       "    </tr>\n",
       "  </thead>\n",
       "  <tbody>\n",
       "    <tr>\n",
       "      <th>1467</th>\n",
       "      <td>2580</td>\n",
       "      <td>2.0</td>\n",
       "      <td>1.0</td>\n",
       "      <td>-14.0</td>\n",
       "      <td>north</td>\n",
       "      <td>1968.0</td>\n",
       "      <td>3º - 2a</td>\n",
       "      <td>False</td>\n",
       "      <td>False</td>\n",
       "      <td>Sant Andreu</td>\n",
       "      <td>10.0</td>\n",
       "      <td>True</td>\n",
       "      <td>True</td>\n",
       "      <td>NaN</td>\n",
       "      <td>1074</td>\n",
       "    </tr>\n",
       "    <tr>\n",
       "      <th>5768</th>\n",
       "      <td>7129</td>\n",
       "      <td>1.0</td>\n",
       "      <td>1.0</td>\n",
       "      <td>97.0</td>\n",
       "      <td>west</td>\n",
       "      <td>1971.0</td>\n",
       "      <td>2º - 3a</td>\n",
       "      <td>False</td>\n",
       "      <td>False</td>\n",
       "      <td>Sarrià-Sant Gervasi</td>\n",
       "      <td>0.0</td>\n",
       "      <td>False</td>\n",
       "      <td>False</td>\n",
       "      <td>NaN</td>\n",
       "      <td>1079</td>\n",
       "    </tr>\n",
       "    <tr>\n",
       "      <th>5714</th>\n",
       "      <td>4083</td>\n",
       "      <td>3.0</td>\n",
       "      <td>1.0</td>\n",
       "      <td>160.0</td>\n",
       "      <td>NaN</td>\n",
       "      <td>1951.0</td>\n",
       "      <td>2º - 2a</td>\n",
       "      <td>True</td>\n",
       "      <td>True</td>\n",
       "      <td>Nou Barris</td>\n",
       "      <td>4.0</td>\n",
       "      <td>True</td>\n",
       "      <td>NaN</td>\n",
       "      <td>NaN</td>\n",
       "      <td>1306</td>\n",
       "    </tr>\n",
       "    <tr>\n",
       "      <th>1578</th>\n",
       "      <td>2551</td>\n",
       "      <td>4.0</td>\n",
       "      <td>1.0</td>\n",
       "      <td>116.0</td>\n",
       "      <td>north</td>\n",
       "      <td>2009.0</td>\n",
       "      <td>NaN</td>\n",
       "      <td>True</td>\n",
       "      <td>True</td>\n",
       "      <td>Eixample</td>\n",
       "      <td>0.0</td>\n",
       "      <td>False</td>\n",
       "      <td>True</td>\n",
       "      <td>NaN</td>\n",
       "      <td>1441</td>\n",
       "    </tr>\n",
       "    <tr>\n",
       "      <th>6958</th>\n",
       "      <td>4927</td>\n",
       "      <td>1.0</td>\n",
       "      <td>2.0</td>\n",
       "      <td>165.0</td>\n",
       "      <td>west</td>\n",
       "      <td>2002.0</td>\n",
       "      <td>2º - 1a</td>\n",
       "      <td>True</td>\n",
       "      <td>False</td>\n",
       "      <td>Nou Barris</td>\n",
       "      <td>2.0</td>\n",
       "      <td>True</td>\n",
       "      <td>True</td>\n",
       "      <td>NaN</td>\n",
       "      <td>1504</td>\n",
       "    </tr>\n",
       "  </tbody>\n",
       "</table>\n",
       "</div>"
      ],
      "text/plain": [
       "        id  num_rooms  num_baths  square_meters orientation  year_built  \\\n",
       "1467  2580        2.0        1.0          -14.0       north      1968.0   \n",
       "5768  7129        1.0        1.0           97.0        west      1971.0   \n",
       "5714  4083        3.0        1.0          160.0         NaN      1951.0   \n",
       "1578  2551        4.0        1.0          116.0       north      2009.0   \n",
       "6958  4927        1.0        2.0          165.0        west      2002.0   \n",
       "\n",
       "         door is_furnished has_pool         neighborhood  num_crimes has_ac  \\\n",
       "1467  3º - 2a        False    False          Sant Andreu        10.0   True   \n",
       "5768  2º - 3a        False    False  Sarrià-Sant Gervasi         0.0  False   \n",
       "5714  2º - 2a         True     True           Nou Barris         4.0   True   \n",
       "1578      NaN         True     True             Eixample         0.0  False   \n",
       "6958  2º - 1a         True    False           Nou Barris         2.0   True   \n",
       "\n",
       "     accepts_pets  num_supermarkets  price  \n",
       "1467         True               NaN   1074  \n",
       "5768        False               NaN   1079  \n",
       "5714          NaN               NaN   1306  \n",
       "1578         True               NaN   1441  \n",
       "6958         True               NaN   1504  "
      ]
     },
     "execution_count": 70,
     "metadata": {},
     "output_type": "execute_result"
    }
   ],
   "source": [
    "loader = DataLoaderSpliter('train.csv')\n",
    "train_df, test_df = loader.load_and_split()\n",
    "train_df.head()"
   ]
  },
  {
   "cell_type": "markdown",
   "metadata": {},
   "source": [
    "### Number of nulls per column"
   ]
  },
  {
   "cell_type": "code",
   "execution_count": 71,
   "metadata": {},
   "outputs": [
    {
     "data": {
      "text/plain": [
       "num_supermarkets    6589\n",
       "orientation         2341\n",
       "year_built           170\n",
       "has_ac               169\n",
       "is_furnished         165\n",
       "neighborhood         165\n",
       "num_baths            160\n",
       "num_crimes           160\n",
       "has_pool             156\n",
       "square_meters        155\n",
       "accepts_pets         155\n",
       "door                 149\n",
       "id                     0\n",
       "num_rooms              0\n",
       "price                  0\n",
       "dtype: int64"
      ]
     },
     "execution_count": 71,
     "metadata": {},
     "output_type": "execute_result"
    }
   ],
   "source": [
    "df.isnull().sum().sort_values(ascending=False)"
   ]
  },
  {
   "cell_type": "markdown",
   "metadata": {},
   "source": [
    "### Shape of the dataframes"
   ]
  },
  {
   "cell_type": "code",
   "execution_count": 72,
   "metadata": {},
   "outputs": [
    {
     "name": "stdout",
     "output_type": "stream",
     "text": [
      "Train shape: (6400, 15) \n",
      " Test shape: (1600, 15)\n"
     ]
    }
   ],
   "source": [
    "print('Train shape:', train_df.shape, '\\n Test shape:', test_df.shape)"
   ]
  },
  {
   "cell_type": "code",
   "execution_count": 73,
   "metadata": {},
   "outputs": [],
   "source": [
    "train_df = train_df.drop(['num_supermarkets','orientation'], axis=1)\n",
    "test_df = test_df.drop(['num_supermarkets','orientation'], axis=1)"
   ]
  },
  {
   "cell_type": "code",
   "execution_count": 74,
   "metadata": {},
   "outputs": [],
   "source": [
    "train_df['floor'] = train_df['door'].str.extract(r'(\\d{1,2})º')\n",
    "test_df['floor'] = test_df['door'].str.extract(r'(\\d{1,2})º')"
   ]
  },
  {
   "cell_type": "markdown",
   "metadata": {},
   "source": [
    "# 1. Impute year with neighborhood mode"
   ]
  },
  {
   "cell_type": "code",
   "execution_count": 75,
   "metadata": {},
   "outputs": [
    {
     "data": {
      "text/html": [
       "<div>\n",
       "<style scoped>\n",
       "    .dataframe tbody tr th:only-of-type {\n",
       "        vertical-align: middle;\n",
       "    }\n",
       "\n",
       "    .dataframe tbody tr th {\n",
       "        vertical-align: top;\n",
       "    }\n",
       "\n",
       "    .dataframe thead th {\n",
       "        text-align: right;\n",
       "    }\n",
       "</style>\n",
       "<table border=\"1\" class=\"dataframe\">\n",
       "  <thead>\n",
       "    <tr style=\"text-align: right;\">\n",
       "      <th></th>\n",
       "      <th>neighborhood</th>\n",
       "      <th>level_1</th>\n",
       "      <th>year_built</th>\n",
       "    </tr>\n",
       "  </thead>\n",
       "  <tbody>\n",
       "    <tr>\n",
       "      <th>0</th>\n",
       "      <td>Ciutat Vella</td>\n",
       "      <td>0</td>\n",
       "      <td>1961.0</td>\n",
       "    </tr>\n",
       "    <tr>\n",
       "      <th>1</th>\n",
       "      <td>Eixample</td>\n",
       "      <td>0</td>\n",
       "      <td>1979.0</td>\n",
       "    </tr>\n",
       "    <tr>\n",
       "      <th>2</th>\n",
       "      <td>Gràcia</td>\n",
       "      <td>0</td>\n",
       "      <td>1950.0</td>\n",
       "    </tr>\n",
       "    <tr>\n",
       "      <th>3</th>\n",
       "      <td>Gràcia</td>\n",
       "      <td>1</td>\n",
       "      <td>2001.0</td>\n",
       "    </tr>\n",
       "    <tr>\n",
       "      <th>4</th>\n",
       "      <td>Horta</td>\n",
       "      <td>0</td>\n",
       "      <td>1984.0</td>\n",
       "    </tr>\n",
       "    <tr>\n",
       "      <th>5</th>\n",
       "      <td>Les Cors</td>\n",
       "      <td>0</td>\n",
       "      <td>1961.0</td>\n",
       "    </tr>\n",
       "    <tr>\n",
       "      <th>6</th>\n",
       "      <td>Nou Barris</td>\n",
       "      <td>0</td>\n",
       "      <td>1995.0</td>\n",
       "    </tr>\n",
       "    <tr>\n",
       "      <th>7</th>\n",
       "      <td>Sant Andreu</td>\n",
       "      <td>0</td>\n",
       "      <td>1967.0</td>\n",
       "    </tr>\n",
       "    <tr>\n",
       "      <th>8</th>\n",
       "      <td>Sant Martí</td>\n",
       "      <td>0</td>\n",
       "      <td>1966.0</td>\n",
       "    </tr>\n",
       "    <tr>\n",
       "      <th>9</th>\n",
       "      <td>Sant Martí</td>\n",
       "      <td>1</td>\n",
       "      <td>2018.0</td>\n",
       "    </tr>\n",
       "    <tr>\n",
       "      <th>10</th>\n",
       "      <td>Sant Martí</td>\n",
       "      <td>2</td>\n",
       "      <td>2020.0</td>\n",
       "    </tr>\n",
       "    <tr>\n",
       "      <th>11</th>\n",
       "      <td>Sants</td>\n",
       "      <td>0</td>\n",
       "      <td>1968.0</td>\n",
       "    </tr>\n",
       "    <tr>\n",
       "      <th>12</th>\n",
       "      <td>Sants</td>\n",
       "      <td>1</td>\n",
       "      <td>2010.0</td>\n",
       "    </tr>\n",
       "    <tr>\n",
       "      <th>13</th>\n",
       "      <td>Sarrià-Sant Gervasi</td>\n",
       "      <td>0</td>\n",
       "      <td>1982.0</td>\n",
       "    </tr>\n",
       "    <tr>\n",
       "      <th>14</th>\n",
       "      <td>Sarrià-Sant Gervasi</td>\n",
       "      <td>1</td>\n",
       "      <td>2015.0</td>\n",
       "    </tr>\n",
       "  </tbody>\n",
       "</table>\n",
       "</div>"
      ],
      "text/plain": [
       "           neighborhood  level_1  year_built\n",
       "0          Ciutat Vella        0      1961.0\n",
       "1              Eixample        0      1979.0\n",
       "2                Gràcia        0      1950.0\n",
       "3                Gràcia        1      2001.0\n",
       "4                 Horta        0      1984.0\n",
       "5              Les Cors        0      1961.0\n",
       "6            Nou Barris        0      1995.0\n",
       "7           Sant Andreu        0      1967.0\n",
       "8            Sant Martí        0      1966.0\n",
       "9            Sant Martí        1      2018.0\n",
       "10           Sant Martí        2      2020.0\n",
       "11                Sants        0      1968.0\n",
       "12                Sants        1      2010.0\n",
       "13  Sarrià-Sant Gervasi        0      1982.0\n",
       "14  Sarrià-Sant Gervasi        1      2015.0"
      ]
     },
     "execution_count": 75,
     "metadata": {},
     "output_type": "execute_result"
    }
   ],
   "source": [
    "year_mode_df = train_df.groupby('neighborhood')['year_built'].apply(lambda x: x.mode()).reset_index()\n",
    "year_mode_df"
   ]
  },
  {
   "cell_type": "code",
   "execution_count": 76,
   "metadata": {},
   "outputs": [
    {
     "name": "stdout",
     "output_type": "stream",
     "text": [
      "           neighborhood  level_1  year_built   year1   year2   year3\n",
      "0          Ciutat Vella        0      1961.0  1961.0     NaN     NaN\n",
      "1              Eixample        0      1979.0  1979.0     NaN     NaN\n",
      "2                Gràcia        0      1950.0  1950.0  2001.0     NaN\n",
      "3                Gràcia        1      2001.0  1950.0  2001.0     NaN\n",
      "4                 Horta        0      1984.0  1984.0     NaN     NaN\n",
      "5              Les Cors        0      1961.0  1961.0     NaN     NaN\n",
      "6            Nou Barris        0      1995.0  1995.0     NaN     NaN\n",
      "7           Sant Andreu        0      1967.0  1967.0     NaN     NaN\n",
      "8            Sant Martí        0      1966.0  1966.0  2018.0  2020.0\n",
      "9            Sant Martí        1      2018.0  1966.0  2018.0  2020.0\n",
      "10           Sant Martí        2      2020.0  1966.0  2018.0  2020.0\n",
      "11                Sants        0      1968.0  1968.0  2010.0     NaN\n",
      "12                Sants        1      2010.0  1968.0  2010.0     NaN\n",
      "13  Sarrià-Sant Gervasi        0      1982.0  1982.0  2015.0     NaN\n",
      "14  Sarrià-Sant Gervasi        1      2015.0  1982.0  2015.0     NaN\n"
     ]
    }
   ],
   "source": [
    "# Agrupar per 'neighborhood' i crear les columnes year1 i year2\n",
    "year_mode_df['year1'] = year_mode_df.groupby('neighborhood')['year_built'].transform(lambda x: x.sort_values().iloc[0] if len(x) > 0 else None)\n",
    "year_mode_df['year2'] = year_mode_df.groupby('neighborhood')['year_built'].transform(lambda x: x.sort_values().iloc[1] if len(x) > 1 else None)\n",
    "year_mode_df['year3'] = year_mode_df.groupby('neighborhood')['year_built'].transform(lambda x: x.sort_values().iloc[2] if len(x) > 2 else None)\n",
    "print(year_mode_df)\n"
   ]
  },
  {
   "cell_type": "code",
   "execution_count": 77,
   "metadata": {},
   "outputs": [
    {
     "data": {
      "text/html": [
       "<div>\n",
       "<style scoped>\n",
       "    .dataframe tbody tr th:only-of-type {\n",
       "        vertical-align: middle;\n",
       "    }\n",
       "\n",
       "    .dataframe tbody tr th {\n",
       "        vertical-align: top;\n",
       "    }\n",
       "\n",
       "    .dataframe thead th {\n",
       "        text-align: right;\n",
       "    }\n",
       "</style>\n",
       "<table border=\"1\" class=\"dataframe\">\n",
       "  <thead>\n",
       "    <tr style=\"text-align: right;\">\n",
       "      <th></th>\n",
       "      <th>neighborhood</th>\n",
       "      <th>year_built</th>\n",
       "      <th>count</th>\n",
       "    </tr>\n",
       "  </thead>\n",
       "  <tbody>\n",
       "    <tr>\n",
       "      <th>0</th>\n",
       "      <td>Ciutat Vella</td>\n",
       "      <td>1961.0</td>\n",
       "      <td>15</td>\n",
       "    </tr>\n",
       "    <tr>\n",
       "      <th>1</th>\n",
       "      <td>Ciutat Vella</td>\n",
       "      <td>1997.0</td>\n",
       "      <td>14</td>\n",
       "    </tr>\n",
       "    <tr>\n",
       "      <th>2</th>\n",
       "      <td>Ciutat Vella</td>\n",
       "      <td>2006.0</td>\n",
       "      <td>14</td>\n",
       "    </tr>\n",
       "    <tr>\n",
       "      <th>3</th>\n",
       "      <td>Ciutat Vella</td>\n",
       "      <td>1956.0</td>\n",
       "      <td>13</td>\n",
       "    </tr>\n",
       "    <tr>\n",
       "      <th>4</th>\n",
       "      <td>Ciutat Vella</td>\n",
       "      <td>1986.0</td>\n",
       "      <td>12</td>\n",
       "    </tr>\n",
       "    <tr>\n",
       "      <th>...</th>\n",
       "      <td>...</td>\n",
       "      <td>...</td>\n",
       "      <td>...</td>\n",
       "    </tr>\n",
       "    <tr>\n",
       "      <th>715</th>\n",
       "      <td>Sarrià-Sant Gervasi</td>\n",
       "      <td>1998.0</td>\n",
       "      <td>5</td>\n",
       "    </tr>\n",
       "    <tr>\n",
       "      <th>716</th>\n",
       "      <td>Sarrià-Sant Gervasi</td>\n",
       "      <td>1967.0</td>\n",
       "      <td>4</td>\n",
       "    </tr>\n",
       "    <tr>\n",
       "      <th>717</th>\n",
       "      <td>Sarrià-Sant Gervasi</td>\n",
       "      <td>2013.0</td>\n",
       "      <td>3</td>\n",
       "    </tr>\n",
       "    <tr>\n",
       "      <th>718</th>\n",
       "      <td>Sarrià-Sant Gervasi</td>\n",
       "      <td>1984.0</td>\n",
       "      <td>3</td>\n",
       "    </tr>\n",
       "    <tr>\n",
       "      <th>719</th>\n",
       "      <td>Sarrià-Sant Gervasi</td>\n",
       "      <td>2019.0</td>\n",
       "      <td>2</td>\n",
       "    </tr>\n",
       "  </tbody>\n",
       "</table>\n",
       "<p>720 rows × 3 columns</p>\n",
       "</div>"
      ],
      "text/plain": [
       "            neighborhood  year_built  count\n",
       "0           Ciutat Vella      1961.0     15\n",
       "1           Ciutat Vella      1997.0     14\n",
       "2           Ciutat Vella      2006.0     14\n",
       "3           Ciutat Vella      1956.0     13\n",
       "4           Ciutat Vella      1986.0     12\n",
       "..                   ...         ...    ...\n",
       "715  Sarrià-Sant Gervasi      1998.0      5\n",
       "716  Sarrià-Sant Gervasi      1967.0      4\n",
       "717  Sarrià-Sant Gervasi      2013.0      3\n",
       "718  Sarrià-Sant Gervasi      1984.0      3\n",
       "719  Sarrià-Sant Gervasi      2019.0      2\n",
       "\n",
       "[720 rows x 3 columns]"
      ]
     },
     "execution_count": 77,
     "metadata": {},
     "output_type": "execute_result"
    }
   ],
   "source": [
    "train_df.groupby('neighborhood')['year_built'].value_counts().reset_index()"
   ]
  },
  {
   "cell_type": "code",
   "execution_count": 78,
   "metadata": {},
   "outputs": [
    {
     "data": {
      "text/html": [
       "<div>\n",
       "<style scoped>\n",
       "    .dataframe tbody tr th:only-of-type {\n",
       "        vertical-align: middle;\n",
       "    }\n",
       "\n",
       "    .dataframe tbody tr th {\n",
       "        vertical-align: top;\n",
       "    }\n",
       "\n",
       "    .dataframe thead th {\n",
       "        text-align: right;\n",
       "    }\n",
       "</style>\n",
       "<table border=\"1\" class=\"dataframe\">\n",
       "  <thead>\n",
       "    <tr style=\"text-align: right;\">\n",
       "      <th></th>\n",
       "      <th>neighborhood</th>\n",
       "      <th>count</th>\n",
       "    </tr>\n",
       "  </thead>\n",
       "  <tbody>\n",
       "    <tr>\n",
       "      <th>0</th>\n",
       "      <td>Sant Martí</td>\n",
       "      <td>3</td>\n",
       "    </tr>\n",
       "    <tr>\n",
       "      <th>1</th>\n",
       "      <td>Gràcia</td>\n",
       "      <td>2</td>\n",
       "    </tr>\n",
       "    <tr>\n",
       "      <th>2</th>\n",
       "      <td>Sants</td>\n",
       "      <td>2</td>\n",
       "    </tr>\n",
       "    <tr>\n",
       "      <th>3</th>\n",
       "      <td>Sarrià-Sant Gervasi</td>\n",
       "      <td>2</td>\n",
       "    </tr>\n",
       "    <tr>\n",
       "      <th>4</th>\n",
       "      <td>Ciutat Vella</td>\n",
       "      <td>1</td>\n",
       "    </tr>\n",
       "    <tr>\n",
       "      <th>5</th>\n",
       "      <td>Eixample</td>\n",
       "      <td>1</td>\n",
       "    </tr>\n",
       "    <tr>\n",
       "      <th>6</th>\n",
       "      <td>Horta</td>\n",
       "      <td>1</td>\n",
       "    </tr>\n",
       "    <tr>\n",
       "      <th>7</th>\n",
       "      <td>Les Cors</td>\n",
       "      <td>1</td>\n",
       "    </tr>\n",
       "    <tr>\n",
       "      <th>8</th>\n",
       "      <td>Nou Barris</td>\n",
       "      <td>1</td>\n",
       "    </tr>\n",
       "    <tr>\n",
       "      <th>9</th>\n",
       "      <td>Sant Andreu</td>\n",
       "      <td>1</td>\n",
       "    </tr>\n",
       "  </tbody>\n",
       "</table>\n",
       "</div>"
      ],
      "text/plain": [
       "          neighborhood  count\n",
       "0           Sant Martí      3\n",
       "1               Gràcia      2\n",
       "2                Sants      2\n",
       "3  Sarrià-Sant Gervasi      2\n",
       "4         Ciutat Vella      1\n",
       "5             Eixample      1\n",
       "6                Horta      1\n",
       "7             Les Cors      1\n",
       "8           Nou Barris      1\n",
       "9          Sant Andreu      1"
      ]
     },
     "execution_count": 78,
     "metadata": {},
     "output_type": "execute_result"
    }
   ],
   "source": [
    "year_mode_count = year_mode_df.neighborhood.value_counts().reset_index()\n",
    "year_mode_count"
   ]
  },
  {
   "cell_type": "code",
   "execution_count": 79,
   "metadata": {},
   "outputs": [],
   "source": [
    "def fill_year_mode(df):\n",
    "    for index in range(len(year_mode_count)):\n",
    "        barri = year_mode_count.loc[index, 'neighborhood']\n",
    "        if year_mode_count.loc[index, 'count'] == 1:\n",
    "            row = year_mode_df[year_mode_df['neighborhood'] == barri].iloc[0]\n",
    "            year = row['year1']\n",
    "            rows_to_fill = ((df['neighborhood'] == barri) & (df['year_built'].isna()==True))\n",
    "            df.loc[rows_to_fill, 'year_built'] = year\n",
    "\n",
    "        elif year_mode_count.loc[index, 'count'] == 2:\n",
    "            row = year_mode_df[year_mode_df['neighborhood'] == barri].iloc[0]\n",
    "            year1 = row['year1']\n",
    "            year2 = row['year2']\n",
    "            rows_to_fill = ((df['neighborhood'] == barri) & (df['year_built'].isna()==True))\n",
    "            year_split = np.random.choice([year1, year2], size=sum(rows_to_fill) , p=[0.5,0.5])\n",
    "            df.loc[rows_to_fill, 'year_built'] = year_split\n",
    "\n",
    "        elif year_mode_count.loc[index, 'count'] == 3:\n",
    "            row = year_mode_df[year_mode_df['neighborhood'] == barri].iloc[0]\n",
    "            year1 = row['year1']\n",
    "            year2 = row['year2']\n",
    "            year3 = row['year3']\n",
    "            rows_to_fill = ((df['neighborhood'] == barri) & (df['year_built'].isna()==True))\n",
    "            year_split = np.random.choice([year1, year2, year3], size=sum(rows_to_fill) , p=[1/3,1/3,1/3])\n",
    "            df.loc[rows_to_fill, 'year_built'] = year_split\n",
    "    return df"
   ]
  },
  {
   "cell_type": "code",
   "execution_count": 80,
   "metadata": {},
   "outputs": [],
   "source": [
    "train_df = fill_year_mode(train_df)\n",
    "test_df = fill_year_mode(test_df)"
   ]
  },
  {
   "cell_type": "markdown",
   "metadata": {},
   "source": [
    "# 2. Fill null Neighborhoods according to Crime"
   ]
  },
  {
   "cell_type": "code",
   "execution_count": 81,
   "metadata": {},
   "outputs": [
    {
     "data": {
      "text/html": [
       "<div>\n",
       "<style scoped>\n",
       "    .dataframe tbody tr th:only-of-type {\n",
       "        vertical-align: middle;\n",
       "    }\n",
       "\n",
       "    .dataframe tbody tr th {\n",
       "        vertical-align: top;\n",
       "    }\n",
       "\n",
       "    .dataframe thead th {\n",
       "        text-align: right;\n",
       "    }\n",
       "</style>\n",
       "<table border=\"1\" class=\"dataframe\">\n",
       "  <thead>\n",
       "    <tr style=\"text-align: right;\">\n",
       "      <th></th>\n",
       "      <th>neighborhood</th>\n",
       "      <th>mean_num_crimes</th>\n",
       "    </tr>\n",
       "  </thead>\n",
       "  <tbody>\n",
       "    <tr>\n",
       "      <th>0</th>\n",
       "      <td>Ciutat Vella</td>\n",
       "      <td>3.08</td>\n",
       "    </tr>\n",
       "    <tr>\n",
       "      <th>1</th>\n",
       "      <td>Eixample</td>\n",
       "      <td>0.92</td>\n",
       "    </tr>\n",
       "    <tr>\n",
       "      <th>2</th>\n",
       "      <td>Gràcia</td>\n",
       "      <td>2.22</td>\n",
       "    </tr>\n",
       "    <tr>\n",
       "      <th>3</th>\n",
       "      <td>Horta</td>\n",
       "      <td>2.54</td>\n",
       "    </tr>\n",
       "    <tr>\n",
       "      <th>4</th>\n",
       "      <td>Les Cors</td>\n",
       "      <td>1.43</td>\n",
       "    </tr>\n",
       "    <tr>\n",
       "      <th>5</th>\n",
       "      <td>Nou Barris</td>\n",
       "      <td>5.12</td>\n",
       "    </tr>\n",
       "    <tr>\n",
       "      <th>6</th>\n",
       "      <td>Sant Andreu</td>\n",
       "      <td>4.49</td>\n",
       "    </tr>\n",
       "    <tr>\n",
       "      <th>7</th>\n",
       "      <td>Sant Martí</td>\n",
       "      <td>3.50</td>\n",
       "    </tr>\n",
       "    <tr>\n",
       "      <th>8</th>\n",
       "      <td>Sants</td>\n",
       "      <td>3.67</td>\n",
       "    </tr>\n",
       "    <tr>\n",
       "      <th>9</th>\n",
       "      <td>Sarrià-Sant Gervasi</td>\n",
       "      <td>0.63</td>\n",
       "    </tr>\n",
       "  </tbody>\n",
       "</table>\n",
       "</div>"
      ],
      "text/plain": [
       "          neighborhood  mean_num_crimes\n",
       "0         Ciutat Vella             3.08\n",
       "1             Eixample             0.92\n",
       "2               Gràcia             2.22\n",
       "3                Horta             2.54\n",
       "4             Les Cors             1.43\n",
       "5           Nou Barris             5.12\n",
       "6          Sant Andreu             4.49\n",
       "7           Sant Martí             3.50\n",
       "8                Sants             3.67\n",
       "9  Sarrià-Sant Gervasi             0.63"
      ]
     },
     "execution_count": 81,
     "metadata": {},
     "output_type": "execute_result"
    }
   ],
   "source": [
    "mean_crimes_df = df.groupby('neighborhood')['num_crimes'].agg('mean').round(2).reset_index()\n",
    "mean_crimes_df = mean_crimes_df.rename(columns={'num_crimes': 'mean_num_crimes'})\n",
    "mean_crimes_df"
   ]
  },
  {
   "cell_type": "code",
   "execution_count": 82,
   "metadata": {},
   "outputs": [],
   "source": [
    "mean_crimes_df['diff'] = np.nan\n",
    "\n",
    "def fill_neighborhood(df):\n",
    "\n",
    "    df = df.reset_index(drop=True)\n",
    "\n",
    "    for i in range(len(df)):\n",
    "        barri = df.iloc[i]['neighborhood']\n",
    "        unknown_neigh_crime = df.loc[i, 'num_crimes']\n",
    "\n",
    "        if pd.isna(barri) and pd.notna(unknown_neigh_crime):\n",
    "\n",
    "            for j in range(len(mean_crimes_df)):\n",
    "                diff = abs(unknown_neigh_crime - mean_crimes_df.loc[j, 'mean_num_crimes'])\n",
    "                mean_crimes_df.loc[j, 'diff'] = diff \n",
    "\n",
    "            closest = mean_crimes_df.loc[mean_crimes_df['diff'].idxmin(), 'neighborhood']\n",
    "            df.loc[i, 'neighborhood'] = closest\n",
    "            \n",
    "    return df"
   ]
  },
  {
   "cell_type": "code",
   "execution_count": 83,
   "metadata": {},
   "outputs": [],
   "source": [
    "train_df = fill_neighborhood(train_df)\n",
    "test_df = fill_neighborhood(test_df)"
   ]
  },
  {
   "cell_type": "markdown",
   "metadata": {},
   "source": [
    "# Fill Null values in Boolean columns\n",
    "Fill with random True and False value respecting the proportion for the year and neighbourhood"
   ]
  },
  {
   "cell_type": "code",
   "execution_count": 84,
   "metadata": {},
   "outputs": [
    {
     "data": {
      "text/plain": [
       "Index(['id', 'num_rooms', 'num_baths', 'square_meters', 'year_built', 'door',\n",
       "       'is_furnished', 'has_pool', 'neighborhood', 'num_crimes', 'has_ac',\n",
       "       'accepts_pets', 'price', 'floor'],\n",
       "      dtype='object')"
      ]
     },
     "execution_count": 84,
     "metadata": {},
     "output_type": "execute_result"
    }
   ],
   "source": [
    "train_df.columns"
   ]
  },
  {
   "cell_type": "code",
   "execution_count": 85,
   "metadata": {},
   "outputs": [],
   "source": [
    "def fill_boolean_nans(df_to_fill,column_to_fill):\n",
    "    \"\"\"\n",
    "    Fills NaN with random 1s and 0s according to proportion for that neightborhood & year.\n",
    "    df_to_fill = train_df or test_df\n",
    "    column_to_fill = accepts_pets, has_ac, has_pool, is_furnished\n",
    "    \"\"\"\n",
    "    averages_df = df_to_fill.groupby(['neighborhood','year_built'])[column_to_fill].mean().reset_index()\n",
    "    averages_df = averages_df.rename(columns={column_to_fill: 'proportion'})\n",
    "    averages_df['proportion'] = averages_df['proportion'].fillna(0.5)\n",
    "\n",
    "    for i in range(len(averages_df)):\n",
    "        barri = averages_df.loc[i, 'neighborhood']\n",
    "        any = averages_df.loc[i, 'year_built']\n",
    "        p = averages_df.loc[i, 'proportion']\n",
    "\n",
    "        rows = ((df_to_fill['neighborhood'] == barri) & \n",
    "            (df_to_fill['year_built'] == any) & \n",
    "            (df_to_fill[column_to_fill].isna()==True))\n",
    "    \n",
    "        df_to_fill.loc[rows,column_to_fill] = np.random.choice([True, False], size=sum(rows), p=[p, 1-p])\n",
    "\n",
    "    return df_to_fill"
   ]
  },
  {
   "cell_type": "code",
   "execution_count": 91,
   "metadata": {},
   "outputs": [],
   "source": [
    "def bool_to_int(df):\n",
    "    \"\"\"\n",
    "    Transforms accepts_pets, has_ac, has_pool, and is_furnished into integers.\n",
    "    Must be used after fill_boolean_nans().\n",
    "    \"\"\"\n",
    "    df.has_pool = df.has_pool.fillna(0)\n",
    "    df.has_ac = df.has_ac.fillna(0)\n",
    "    df.is_furnished = df.is_furnished.fillna(0)\n",
    "    df.accepts_pets = df.accepts_pets.fillna(0)\n",
    "                                             \n",
    "    df.has_pool = df.has_pool.astype(int)\n",
    "    df.has_ac = df.has_ac.astype(int)\n",
    "    df.is_furnished = df.is_furnished.astype(int)\n",
    "    df.accepts_pets = df.accepts_pets.astype(int)\n",
    "    return df"
   ]
  },
  {
   "cell_type": "code",
   "execution_count": 87,
   "metadata": {},
   "outputs": [],
   "source": [
    "train_df = fill_boolean_nans(train_df, 'has_ac')\n",
    "train_df = fill_boolean_nans(train_df, 'has_pool')\n",
    "train_df = fill_boolean_nans(train_df, 'is_furnished')\n",
    "train_df = fill_boolean_nans(train_df, 'accepts_pets')"
   ]
  },
  {
   "cell_type": "code",
   "execution_count": 88,
   "metadata": {},
   "outputs": [],
   "source": [
    "test_df = fill_boolean_nans(test_df, 'has_ac')\n",
    "test_df = fill_boolean_nans(test_df, 'has_pool')\n",
    "test_df = fill_boolean_nans(test_df, 'is_furnished')\n",
    "test_df = fill_boolean_nans(test_df, 'accepts_pets')"
   ]
  },
  {
   "cell_type": "code",
   "execution_count": 92,
   "metadata": {},
   "outputs": [],
   "source": [
    "train_df = bool_to_int(train_df)\n",
    "test_df = bool_to_int(test_df)"
   ]
  },
  {
   "cell_type": "code",
   "execution_count": 93,
   "metadata": {},
   "outputs": [
    {
     "data": {
      "text/plain": [
       "id                 0\n",
       "num_rooms          0\n",
       "num_baths        133\n",
       "square_meters    105\n",
       "year_built         3\n",
       "door             115\n",
       "is_furnished       0\n",
       "has_pool           0\n",
       "neighborhood       6\n",
       "num_crimes       132\n",
       "has_ac             0\n",
       "accepts_pets       0\n",
       "price              0\n",
       "floor            115\n",
       "dtype: int64"
      ]
     },
     "execution_count": 93,
     "metadata": {},
     "output_type": "execute_result"
    }
   ],
   "source": [
    "train_df.isnull().sum()"
   ]
  },
  {
   "cell_type": "code",
   "execution_count": 90,
   "metadata": {},
   "outputs": [
    {
     "data": {
      "text/plain": [
       "id                0\n",
       "num_rooms         0\n",
       "num_baths        27\n",
       "square_meters    50\n",
       "year_built        0\n",
       "door             34\n",
       "is_furnished      0\n",
       "has_pool          0\n",
       "neighborhood      0\n",
       "num_crimes       28\n",
       "has_ac            0\n",
       "accepts_pets      0\n",
       "price             0\n",
       "floor            34\n",
       "dtype: int64"
      ]
     },
     "execution_count": 90,
     "metadata": {},
     "output_type": "execute_result"
    }
   ],
   "source": [
    "test_df.isnull().sum()"
   ]
  }
 ],
 "metadata": {
  "kernelspec": {
   "display_name": "base",
   "language": "python",
   "name": "python3"
  },
  "language_info": {
   "codemirror_mode": {
    "name": "ipython",
    "version": 3
   },
   "file_extension": ".py",
   "mimetype": "text/x-python",
   "name": "python",
   "nbconvert_exporter": "python",
   "pygments_lexer": "ipython3",
   "version": "3.11.5"
  }
 },
 "nbformat": 4,
 "nbformat_minor": 2
}
